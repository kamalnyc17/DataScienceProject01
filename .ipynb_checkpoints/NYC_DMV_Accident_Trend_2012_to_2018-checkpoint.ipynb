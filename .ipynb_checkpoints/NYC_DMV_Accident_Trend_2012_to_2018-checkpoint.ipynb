{
 "cells": [
  {
   "cell_type": "markdown",
   "metadata": {},
   "source": [
    "# NYC Motor Vehicle Collisions & Crashes Analysis\n",
    "## Team Members\n",
    "### Alfonso Toruno, \n",
    "### Chris Campbell, \n",
    "### Kamal Mukherjee, \n",
    "### Roslyn"
   ]
  },
  {
   "cell_type": "markdown",
   "metadata": {},
   "source": [
    "![title](Images/accident1.jpg)"
   ]
  },
  {
   "cell_type": "markdown",
   "metadata": {},
   "source": [
    "# Scope of the project:\n",
    "## Our goal is to determine the effect of various traffic related changes in NYC Motor Vehicle Collisions during the past decade\n",
    "### Some of the noteworthy changes in NYC since 2011 are:\n",
    "#### The launch of Uber, Lyft and other rideshare programs in May, 2011.\n",
    "#### Citi Bike was launched in May, 2013.\n",
    "#### Green Cab (or Boro Taxi) was launched in the summer of 2013.\n",
    "#### NYC speed limits were reduced from 30 mph to 25 mph in November, 2014."
   ]
  },
  {
   "cell_type": "markdown",
   "metadata": {},
   "source": [
    "## Being New Yorkers, we wanted to find out:\n",
    "### 1. How did the above changes impact NYC Motor Vehicle Collisions & Crashes? \n",
    "### 2. Were there significant differences in accident volume across the five city boroughs, given that each one has its own unique personality?\n",
    "### 3. What were the root causes of accidents? Was it primarily alcohol or were there other factors involved?\n",
    "### 4. Which vehicle type caused the most accidents? Was it Taxicabs, Buses or something else?\n",
    "### 5. Did seasonality have a significant role in NYC Motor Vehicle Collisions & Crashes?"
   ]
  },
  {
   "cell_type": "markdown",
   "metadata": {},
   "source": [
    "# Identifying a reliable & trustworthy source of Data:\n",
    "#### Our first challenge was to gather data from a source that we can trust!\n",
    "#### After a brief web search, we were able to quickly identify the New York City DMV as a reliable source of data. \n",
    "#### The Motor Vehicle Collisions data tables contain information from all police reported motor vehicle collisions in NYC. \n",
    "#### The police report (MV104-AN) is required to be filled out for collisions where someone is injured or killed, or where there is at least 1,000 dollars' worth of damage."
   ]
  },
  {
   "cell_type": "markdown",
   "metadata": {},
   "source": [
    "# Data exploration:\n",
    "#### NYC DMV offers the collisions and crash data table as a CSV download and an API endpoint. However, after reviewing the data from both sources, we realized that the csv version of the table contains a more complete set of information. Also, though the NYC DMV offers data between 2011 and 2020, we found 2012 through 2018 to be the most reliable set of data.\n",
    "\n",
    "#  Clean up process:\n",
    "#### To effectively clean the data, we took the following measures:\n",
    "#### Eliminate duplicative or irrelevant observations.\n",
    "#### Correct any typographical issues with categorical data (i.e. converting all column headers to uniform upper-case formatting).\n",
    "#### Fix any structural errors.\n",
    "#### Account for any missing categorical and numeric data."
   ]
  },
  {
   "cell_type": "markdown",
   "metadata": {},
   "source": [
    "# Limitations of the dataset:\n",
    "### DMV’s dataset does not provide any information on road construction happening around each accident site.\n",
    "### We were unable to find a reliable historical NYC weather reporting to observe how rain, snow and other weather conditions could have impacted motor vehicles collisions.\n",
    "### Although there is a clear upward trend in accident count year-over-year, there is no data available on the increase of total vehicles over the same time frame. This prevents us from analyzing “accident count vs. vehicle count.”"
   ]
  },
  {
   "cell_type": "code",
   "execution_count": null,
   "metadata": {},
   "outputs": [],
   "source": [
    "# importing dependencies\n",
    "import pandas as pd\n",
    "import matplotlib.pyplot as plt\n",
    "import numpy as np\n",
    "import requests\n",
    "import time\n",
    "import csv\n",
    "from datetime import datetime\n",
    "import gmaps\n",
    "\n",
    "# Import API key\n",
    "from api_keys import g_key\n",
    "\n",
    "# importing 2012 - 2018 data from csv downloaded from NYC DMV website\n",
    "csv_file = \"Resources/Motor_Vehicle_Collisions.csv\"\n",
    "dmv_all_data = pd.read_csv(csv_file, encoding=\"ISO-8859-1\", low_memory=False)\n",
    "\n",
    "# revising the dataframe with columns that has relevance for our analysis\n",
    "dmv_all_data = dmv_all_data[['CRASH DATE', 'BOROUGH', 'ZIP CODE', 'LATITUDE', 'LONGITUDE',\n",
    "                            'NUMBER OF PERSONS INJURED', 'NUMBER OF PERSONS KILLED', \n",
    "                            'NUMBER OF PEDESTRIANS INJURED', 'NUMBER OF PEDESTRIANS KILLED', \n",
    "                            'NUMBER OF CYCLIST INJURED', 'NUMBER OF CYCLIST KILLED', \n",
    "                            'NUMBER OF MOTORIST INJURED', 'NUMBER OF MOTORIST KILLED',\n",
    "                            'CONTRIBUTING FACTOR VEHICLE 1', 'CONTRIBUTING FACTOR VEHICLE 2', \n",
    "                            'VEHICLE TYPE CODE 1', 'VEHICLE TYPE CODE 2']]\n",
    "\n",
    "# displaying the dataframe and initial row count\n",
    "count_row = \"{:,.0f}\".format(dmv_all_data.shape[0])\n",
    "print(f'Total row of the dataframe before any clean up: {count_row}')\n",
    "dmv_all_data.head()"
   ]
  },
  {
   "cell_type": "code",
   "execution_count": null,
   "metadata": {},
   "outputs": [],
   "source": [
    "# Adding year & month column to the dataframe to create timeline\n",
    "dmv_cleaned_data = dmv_all_data.assign(YEAR=dmv_all_data['CRASH DATE'].str.slice(6, 10), \n",
    "                                        MONTH=dmv_all_data['CRASH DATE'].str.slice(0, 2).astype(int))\n",
    "# Convert month by name\n",
    "bins = [0, 1, 2, 3, 4, 5, 6, 7, 8, 9, 10, 11, 12]\n",
    "group_names = [\"Jan\", \"Feb\", \"Mar\", \"Apr\", \"May\", \"Jun\", \"Jul\", \"Aug\", \"Sep\", \"Oct\", \"Nov\", \"Dec\"]\n",
    "dmv_cleaned_data[\"MONTH NAME\"] = pd.cut(dmv_cleaned_data[\"MONTH\"], bins, labels=group_names, include_lowest=True)\n",
    "\n",
    "# Dropping rows where an important column contains NaN Value\n",
    "dmv_cleaned_data.dropna(subset=['BOROUGH', 'ZIP CODE', 'LATITUDE', 'LONGITUDE', 'VEHICLE TYPE CODE 1', 'CONTRIBUTING FACTOR VEHICLE 1',\n",
    "                            'NUMBER OF PERSONS INJURED', 'NUMBER OF PERSONS KILLED'], inplace=True)\n",
    "\n",
    "# Further cleaning up the dataset by dropping rows with meaningless values\n",
    "dmv_cleaned_data = dmv_cleaned_data.loc[(dmv_cleaned_data['CONTRIBUTING FACTOR VEHICLE 1'] != 'Unspecified') & \n",
    "                                      (dmv_cleaned_data['VEHICLE TYPE CODE 1'] != 'UNKNOWN')]\n",
    "# Applying uppercase to the text columns for proper groupping etc.\n",
    "dmv_cleaned_data['BOROUGH'] = dmv_cleaned_data['BOROUGH'].str.upper()\n",
    "dmv_cleaned_data['CONTRIBUTING FACTOR VEHICLE 1'] = dmv_cleaned_data['CONTRIBUTING FACTOR VEHICLE 1'].str.upper()\n",
    "dmv_cleaned_data['VEHICLE TYPE CODE 1'] = dmv_cleaned_data['VEHICLE TYPE CODE 1'].str.upper()\n",
    "\n",
    "# creating dataset for 2012 and exporting to csv for local use\n",
    "dmv_2012_data = dmv_cleaned_data.loc[(dmv_cleaned_data['YEAR'] == '2012')]\n",
    "dmv_2012_data.to_csv(\"Resources/dmv_2012_data.csv\", encoding=\"utf-8\", index=False)\n",
    "\n",
    "# creating dataset for 2013 and exporting to csv for local use\n",
    "dmv_2013_data = dmv_cleaned_data.loc[(dmv_cleaned_data['YEAR'] == '2013')]\n",
    "dmv_2013_data.to_csv(\"Resources/dmv_2013_data.csv\", encoding=\"utf-8\", index=False)\n",
    "\n",
    "# creating dataset for 2014 and exporting to csv for local use\n",
    "dmv_2014_data = dmv_cleaned_data.loc[(dmv_cleaned_data['YEAR'] == '2014')]\n",
    "dmv_2014_data.to_csv(\"Resources/dmv_2014_data.csv\", encoding=\"utf-8\", index=False)\n",
    "\n",
    "# creating dataset for 2015 and exporting to csv for local use\n",
    "dmv_2015_data = dmv_cleaned_data.loc[(dmv_cleaned_data['YEAR'] == '2015')]\n",
    "dmv_2015_data.to_csv(\"Resources/dmv_2015_data.csv\", encoding=\"utf-8\", index=False)\n",
    "\n",
    "# creating dataset for 2016 and exporting to csv for local use\n",
    "dmv_2016_data = dmv_cleaned_data.loc[(dmv_cleaned_data['YEAR'] == '2016')]\n",
    "dmv_2016_data.to_csv(\"Resources/dmv_2016_data.csv\", encoding=\"utf-8\", index=False)\n",
    "\n",
    "# creating dataset for 2017 and exporting to csv for local use\n",
    "dmv_2017_data = dmv_cleaned_data.loc[(dmv_cleaned_data['YEAR'] == '2017')]\n",
    "dmv_2017_data.to_csv(\"Resources/dmv_2017_data.csv\", encoding=\"utf-8\", index=False)\n",
    "\n",
    "# creating dataset for 2018 and exporting to csv for local use\n",
    "dmv_2018_data = dmv_cleaned_data.loc[(dmv_cleaned_data['YEAR'] == '2018')]\n",
    "dmv_2018_data.to_csv(\"Resources/dmv_2018_data.csv\", encoding=\"utf-8\", index=False)\n",
    "\n",
    "# displaying the cleaned dataframe and final row count\n",
    "count_row = \"{:,.0f}\".format(dmv_cleaned_data.shape[0])\n",
    "print(f'Total number of rows of the CLEANED dataframe: {count_row}')\n",
    "dmv_cleaned_data.head()"
   ]
  },
  {
   "cell_type": "markdown",
   "metadata": {},
   "source": [
    "# We start by analyzing our most current data of 2018"
   ]
  },
  {
   "cell_type": "markdown",
   "metadata": {},
   "source": [
    "## 1. Accident data and visualization grouped by borough"
   ]
  },
  {
   "cell_type": "code",
   "execution_count": null,
   "metadata": {},
   "outputs": [],
   "source": [
    "# 2018 Motor Vehicle Collisions Analysis\n",
    "# Dataframe of accidents by borough\n",
    "accidents_by_borough_2018 = dmv_2018_data.groupby([\"BOROUGH\"])\n",
    "total_by_borough = accidents_by_borough_2018[\"BOROUGH\"].count().map(\"{:,.0f}\".format)\n",
    "\n",
    "# creating new dataframe for charts\n",
    "monthly_total_accident = pd.DataFrame({\n",
    "    \"Total Accident\": total_by_borough\n",
    "})\n",
    "\n",
    "# display dataframe as point of reference\n",
    "monthly_total_accident"
   ]
  },
  {
   "cell_type": "code",
   "execution_count": null,
   "metadata": {},
   "outputs": [],
   "source": [
    "# 2018 Motor Vehicle Collisions Analysis\n",
    "# Number of accidents by borough\n",
    "accidents_by_borough_2018 = dmv_2018_data.groupby('BOROUGH').size()\n",
    "\n",
    "# Labels for the sections of our pie chart\n",
    "labels = [\"BRONX\", \"BROOKLYN\", \"MANHATTAN\", \"QUEENS\", \"STATEN ISLAND\"]\n",
    "\n",
    "# The colors of each section of the pie chart\n",
    "colors = [\"C0\", \"C1\", \"C2\", \"C3\", \"C4\"]\n",
    "\n",
    "# plotting pie chart and removing y-axis label\n",
    "_=accidents_by_borough_2018.plot.pie(labels=labels, colors=colors,\n",
    "        autopct=\"%1.1f%%\", shadow=True, startangle=140 )\n",
    "_=plt.title(\"2018 Motor Vehicle Collisions by Borough\", bbox={'facecolor':'0.9', 'pad':5}, pad=20)\n",
    "_=plt.ylabel(\"\")\n",
    "plt.savefig(\"Images/accident_by_bourough_2018.png\")"
   ]
  },
  {
   "cell_type": "markdown",
   "metadata": {},
   "source": [
    "## 2. Accident data and visualization grouped by severity of accidents"
   ]
  },
  {
   "cell_type": "code",
   "execution_count": null,
   "metadata": {},
   "outputs": [],
   "source": [
    "# Generate a dataframe to analyze the level of severity of the accidents\n",
    "accidents_with_no_injury = len(dmv_2018_data.loc[(dmv_2018_data['NUMBER OF PERSONS INJURED'].astype(int)==0) & \n",
    "                                             (dmv_2018_data['NUMBER OF PERSONS KILLED'].astype(int)==0)])\n",
    "accidents_with_injury = len(dmv_2018_data.loc[(dmv_2018_data['NUMBER OF PERSONS INJURED'].astype(int)>0)])\n",
    "accidents_with_fatality = len(dmv_2018_data.loc[(dmv_2018_data['NUMBER OF PERSONS KILLED'].astype(int)>0)])\n",
    "total_accidents_2018 = accidents_with_no_injury + accidents_with_injury + accidents_with_fatality\n",
    "accident_2018_dict = [{\n",
    "    \"No Injury\": \"{:,.0f}\".format(accidents_with_no_injury),\n",
    "    \"Injury\": \"{:,.0f}\".format(accidents_with_injury),\n",
    "    \"Fatality\": \"{:,.0f}\".format(accidents_with_fatality),\n",
    "    \"Total Accidents\": \"{:,.0f}\".format(total_accidents_2018)\n",
    "}]\n",
    "accident_2018_df = pd.DataFrame(accident_2018_dict)\n",
    "accident_2018_df"
   ]
  },
  {
   "cell_type": "code",
   "execution_count": null,
   "metadata": {},
   "outputs": [],
   "source": [
    "# Generate a pie chart to analyze the level of severity of the accidents\n",
    "# The value of different level of accident severity\n",
    "total_accidents = [accidents_with_no_injury, accidents_with_injury, accidents_with_fatality]\n",
    "\n",
    "# Labels for the sections of our pie chart\n",
    "labels = [\"No Injury\", \"Injury\", \"Fatality\"]\n",
    "\n",
    "# The colors of each section of the pie chart\n",
    "colors = [\"C0\", \"C1\", \"C3\"]\n",
    "\n",
    "# trying to seperate the \"Fatality\" section from the others\n",
    "explode = (0.1, 0.1, 0.5)\n",
    "\n",
    "# plotting pie chart and removing y-axis label\n",
    "_=plt.pie(total_accidents, labels=labels, explode=explode, colors=colors,\n",
    "        autopct=\"%1.1f%%\", shadow=True, startangle=140)\n",
    "_=plt.title(\"Level of Severity of Accidents in 2018\", bbox={'facecolor':'.9', 'pad':5}, pad=20)\n",
    "_=plt.ylabel(\"\")\n",
    "plt.savefig(\"Images/accident_by_severity_2018.png\")"
   ]
  },
  {
   "cell_type": "markdown",
   "metadata": {},
   "source": [
    "## 3. Month by month accident incidents"
   ]
  },
  {
   "cell_type": "code",
   "execution_count": null,
   "metadata": {},
   "outputs": [],
   "source": [
    "# 2018 Motor Vehicle Collisions Analysis\n",
    "# creating new dataframe grouped by Month\n",
    "monthly_data_2018 = dmv_2018_data.groupby([\"MONTH NAME\"])\n",
    "accident_by_time_point_2018 = monthly_data_2018[\"MONTH NAME\"].count()\n",
    "\n",
    "# creating new dataframe for charts\n",
    "monthly_total_accident = pd.DataFrame({\n",
    "    \"Total Accident\": accident_by_time_point_2018.map(\"{:,.0f}\".format)\n",
    "})\n",
    "\n",
    "# display dataframe as point of reference\n",
    "monthly_total_accident"
   ]
  },
  {
   "cell_type": "code",
   "execution_count": null,
   "metadata": {},
   "outputs": [],
   "source": [
    "# Generate a line chart showing total number of accidents per month for 2018\n",
    "group_keys = list(monthly_data_2018.groups.keys())\n",
    "plt.plot(group_keys, accident_by_time_point_2018, marker ='o', color='blue', label=\"Sine\")\n",
    "ymin = min(accident_by_time_point_2018)-500\n",
    "ymax = max(accident_by_time_point_2018)+500\n",
    "\n",
    "# Adding axis labels\n",
    "_=plt.title(\"Monthly Accident Count for 2018\", bbox={'facecolor':'0.9', 'pad':5}, pad=20)\n",
    "_=plt.xlabel(\"Month of the Year\")\n",
    "_=plt.ylabel(\"Total Number of Accidents\")\n",
    "_=plt.ylim(ymin, ymax)\n",
    "plt.savefig(\"Images/accident_by_month_2018.png\")"
   ]
  },
  {
   "cell_type": "markdown",
   "metadata": {},
   "source": [
    "## 4. Top 10 accident-causing vehicle types in NYC"
   ]
  },
  {
   "cell_type": "code",
   "execution_count": null,
   "metadata": {},
   "outputs": [],
   "source": [
    "# Group 2018 dataframe by vehicle type and sort by accident count to identify top ten accident prone vehicle for NYC\n",
    "accident_by_vehicle_type_2018 = dmv_2018_data.groupby([\"VEHICLE TYPE CODE 1\"]).size()\n",
    "accident_by_vehicle_type_2018_df = pd.DataFrame({\n",
    "    \"Total Accident\": accident_by_vehicle_type_2018,\n",
    "})\n",
    "\n",
    "# Refining the dataframe for our analysis\n",
    "accident_by_vehicle_type_2018_df[\"Vehicle Type\"] = accident_by_vehicle_type_2018_df.index\n",
    "accident_by_vehicle_type_2018_df.sort_values(by=[\"Total Accident\"], ascending=False, inplace=True)\n",
    "top_ten_vehicle_type_2018 = accident_by_vehicle_type_2018_df[:10]\n",
    "top_ten_vehicle_type_2018"
   ]
  },
  {
   "cell_type": "code",
   "execution_count": null,
   "metadata": {},
   "outputs": [],
   "source": [
    "# Generate a bar chart to plot accident count by vehicle type\n",
    "vehicle_type = top_ten_vehicle_type_2018[\"Vehicle Type\"]\n",
    "accident = top_ten_vehicle_type_2018[\"Total Accident\"]\n",
    "plt.bar(vehicle_type, accident, color=['C0', 'C1', 'C2', 'C3', 'C4'], width=0.5, align=\"center\")\n",
    "_=plt.title(\"Total Number of Accidents by Vehicle Type in 2018\", bbox={'facecolor':'0.9', 'pad':5}, pad=20)\n",
    "_=plt.xlabel(\"Vehicle Type\")\n",
    "_=plt.ylabel(\"Number of Accidents\")\n",
    "_=plt.xticks(rotation=90)\n",
    "plt.savefig(\"Images/vehicle_type_2018.png\")"
   ]
  },
  {
   "cell_type": "markdown",
   "metadata": {},
   "source": [
    "## 5. Top Ten accident reasons in NYC"
   ]
  },
  {
   "cell_type": "code",
   "execution_count": null,
   "metadata": {},
   "outputs": [],
   "source": [
    "# Group 2018 dataframe by reason and sort by accident count to identify top ten reasons of accident for NYC\n",
    "accident_by_reason_2018 = dmv_2018_data.groupby([\"CONTRIBUTING FACTOR VEHICLE 1\"]).size()\n",
    "accident_by_reason_2018_df = pd.DataFrame({\n",
    "    \"Total Accident\": accident_by_reason_2018,\n",
    "})\n",
    "\n",
    "# Refining the dataframe for our analysis\n",
    "accident_by_reason_2018_df[\"Reason for Accident\"] = accident_by_reason_2018_df.index\n",
    "accident_by_reason_2018_df.sort_values(by=[\"Total Accident\"], ascending=False, inplace=True)\n",
    "top_ten_reason_2018 = accident_by_reason_2018_df[:10]\n",
    "top_ten_reason_2018"
   ]
  },
  {
   "cell_type": "code",
   "execution_count": null,
   "metadata": {},
   "outputs": [],
   "source": [
    "# Generate a horizontal bar chart to plot accident count by reason\n",
    "reason = top_ten_reason_2018[\"Reason for Accident\"]\n",
    "accident = top_ten_reason_2018[\"Total Accident\"]\n",
    "plt.barh(reason, accident, color=['C0', 'C1', 'C2', 'C3', 'C4'], align=\"center\")\n",
    "_=plt.title(\"Total Number of Accidents by Reason in 2018\", bbox={'facecolor':'0.9', 'pad':5}, pad=20)\n",
    "_=plt.xlabel(\"Number of Accidents\")\n",
    "_=plt.ylabel(\"Reason for Accident\")\n",
    "_=plt.gca().invert_yaxis()\n",
    "_=plt.xticks(rotation=90)\n",
    "plt.savefig(\"Images/reason_2018.png\")"
   ]
  },
  {
   "cell_type": "markdown",
   "metadata": {},
   "source": [
    "## 6. In November 2014, NYC passed a law reducing the speed limit from 30 mph to 25 mph. The following visualizations observe the impact that the new law had on total volume and severity of accidents in NYC."
   ]
  },
  {
   "cell_type": "code",
   "execution_count": null,
   "metadata": {},
   "outputs": [],
   "source": [
    "# Create a dataframe showing annual accidents between 2012 and 2018\n",
    "total_2012_accidents = len(dmv_2012_data)\n",
    "total_2013_accidents = len(dmv_2013_data)\n",
    "total_2014_accidents = len(dmv_2014_data)\n",
    "total_2015_accidents = len(dmv_2015_data)\n",
    "total_2016_accidents = len(dmv_2016_data)\n",
    "total_2017_accidents = len(dmv_2017_data)\n",
    "total_2018_accidents = len(dmv_2018_data)\n",
    "year = pd.Series([\"2012\", \"2013\", \"2014\", \"2015\", \"2016\", \"2017\", \"2018\"])\n",
    "accidents = pd.Series([total_2012_accidents, total_2013_accidents, total_2014_accidents, total_2015_accidents,\n",
    "                        total_2016_accidents, total_2017_accidents, total_2018_accidents])\n",
    "accident_dict = {\n",
    "    \"Year\": year,\n",
    "    \"Total Accidents\": accidents\n",
    "}\n",
    "annual_total_accident = pd.DataFrame(accident_dict)\n",
    "annual_total_accident"
   ]
  },
  {
   "cell_type": "code",
   "execution_count": null,
   "metadata": {},
   "outputs": [],
   "source": [
    "# create a line chart to visualize yearly total accidents between 2012 and 2018\n",
    "year = annual_total_accident[\"Year\"]\n",
    "accidents = annual_total_accident[\"Total Accidents\"]\n",
    "plt.plot(year, accidents, marker ='o', color='green', label=\"Sine\")\n",
    "ymin = min(accidents)-10000\n",
    "ymax = max(accidents)+10000\n",
    "\n",
    "# Adding axis labels\n",
    "_=plt.title(\"Annual Accident Count Between 2012 & 2018\", bbox={'facecolor':'0.9', 'pad':5}, pad=20)\n",
    "_=plt.xlabel(\"Calendar Year\")\n",
    "_=plt.ylabel(\"Total Number of Accidents\")\n",
    "_=plt.ylim(ymin, ymax)\n",
    "_=plt.savefig(\"Images/total_accidents_per_year.png\")"
   ]
  },
  {
   "cell_type": "code",
   "execution_count": null,
   "metadata": {},
   "outputs": [],
   "source": [
    "# Create a dataframe showing annual accident injuries between 2012 and 2018\n",
    "total_2012_injury = len(dmv_2012_data.loc[(dmv_2012_data['NUMBER OF PERSONS INJURED'].astype(int) > 0)])\n",
    "total_2013_injury = len(dmv_2013_data.loc[(dmv_2013_data['NUMBER OF PERSONS INJURED'].astype(int) > 0)])\n",
    "total_2014_injury = len(dmv_2014_data.loc[(dmv_2014_data['NUMBER OF PERSONS INJURED'].astype(int) > 0)])\n",
    "total_2015_injury = len(dmv_2015_data.loc[(dmv_2015_data['NUMBER OF PERSONS INJURED'].astype(int) > 0)])\n",
    "total_2016_injury = len(dmv_2016_data.loc[(dmv_2016_data['NUMBER OF PERSONS INJURED'].astype(int) > 0)])\n",
    "total_2017_injury = len(dmv_2017_data.loc[(dmv_2017_data['NUMBER OF PERSONS INJURED'].astype(int) > 0)])\n",
    "total_2018_injury = len(dmv_2018_data.loc[(dmv_2018_data['NUMBER OF PERSONS INJURED'].astype(int) > 0)])\n",
    "year = pd.Series([\"2012\", \"2013\", \"2014\", \"2015\", \"2016\", \"2017\", \"2018\"])\n",
    "injury = pd.Series([total_2012_injury, total_2013_injury, total_2014_injury, total_2015_injury,\n",
    "                        total_2016_injury, total_2017_injury, total_2018_injury])\n",
    "injury_dict = {\n",
    "    \"Year\": year,\n",
    "    \"Total Injury\": injury\n",
    "}\n",
    "annual_total_injury = pd.DataFrame(injury_dict)\n",
    "annual_total_injury"
   ]
  },
  {
   "cell_type": "code",
   "execution_count": null,
   "metadata": {},
   "outputs": [],
   "source": [
    "# create a line chart to visualize yearly total injury between 2012 and 2018\n",
    "year = annual_total_injury[\"Year\"]\n",
    "injury = annual_total_injury[\"Total Injury\"]\n",
    "plt.plot(year, injury, marker ='o', color='blue', label=\"Sine\")\n",
    "ymin = min(injury)-2000\n",
    "ymax = max(injury)+2000\n",
    "\n",
    "# Adding axis labels\n",
    "_=plt.title(\"Annual Injury Count Between 2012 & 2018\", bbox={'facecolor':'0.9', 'pad':5}, pad=20)\n",
    "_=plt.xlabel(\"Calendar Year\")\n",
    "_=plt.ylabel(\"Total Number of Innuries\")\n",
    "_=plt.ylim(ymin, ymax)\n",
    "_=plt.savefig(\"Images/total_injury_per_year.png\")"
   ]
  },
  {
   "cell_type": "code",
   "execution_count": null,
   "metadata": {},
   "outputs": [],
   "source": [
    "# Create a dataframe showing annual accident deaths between 2012 and 2018\n",
    "total_2012_death = len(dmv_2012_data.loc[(dmv_2012_data['NUMBER OF PERSONS KILLED'].astype(int) > 0)])\n",
    "total_2013_death = len(dmv_2013_data.loc[(dmv_2013_data['NUMBER OF PERSONS KILLED'].astype(int) > 0)])\n",
    "total_2014_death = len(dmv_2014_data.loc[(dmv_2014_data['NUMBER OF PERSONS KILLED'].astype(int) > 0)])\n",
    "total_2015_death = len(dmv_2015_data.loc[(dmv_2015_data['NUMBER OF PERSONS KILLED'].astype(int) > 0)])\n",
    "total_2016_death = len(dmv_2016_data.loc[(dmv_2016_data['NUMBER OF PERSONS KILLED'].astype(int) > 0)])\n",
    "total_2017_death = len(dmv_2017_data.loc[(dmv_2017_data['NUMBER OF PERSONS KILLED'].astype(int) > 0)])\n",
    "total_2018_death = len(dmv_2018_data.loc[(dmv_2018_data['NUMBER OF PERSONS KILLED'].astype(int) > 0)])\n",
    "year = pd.Series([\"2012\", \"2013\", \"2014\", \"2015\", \"2016\", \"2017\", \"2018\"])\n",
    "death = pd.Series([total_2012_death, total_2013_death, total_2014_death, total_2015_death,\n",
    "                        total_2016_death, total_2017_death, total_2018_death])\n",
    "death_dict = {\n",
    "    \"Year\": year,\n",
    "    \"Total Fatality\": death\n",
    "}\n",
    "annual_total_death = pd.DataFrame(death_dict)\n",
    "annual_total_death"
   ]
  },
  {
   "cell_type": "code",
   "execution_count": null,
   "metadata": {},
   "outputs": [],
   "source": [
    "# create a line chart to visualize yearly total death between 2012 and 2018\n",
    "year = annual_total_death[\"Year\"]\n",
    "death = annual_total_death[\"Total Fatality\"]\n",
    "plt.plot(year, death, marker ='o', color='red', label=\"Sine\")\n",
    "ymin = min(death)-20\n",
    "ymax = max(death)+20\n",
    "\n",
    "# Adding axis labels\n",
    "_=plt.title(\"Annual Death Count Between 2012 & 2018\", bbox={'facecolor':'0.9', 'pad':5}, pad=20)\n",
    "_=plt.xlabel(\"Calendar Year\")\n",
    "_=plt.ylabel(\"Total Number of Deaths\")\n",
    "_=plt.ylim(ymin, ymax)\n",
    "_=plt.savefig(\"Images/total_death_per_year.png\")"
   ]
  },
  {
   "cell_type": "code",
   "execution_count": null,
   "metadata": {},
   "outputs": [],
   "source": [
    "# Create a dataframe to show the annual injury and fatality percentage between 2012 & 2018\n",
    "injury_percentage_2012 = round((total_2012_injury / total_2012_accidents) * 100, 2)\n",
    "death_percentage_2012 = round((total_2012_death / total_2012_accidents) * 100, 2)\n",
    "injury_percentage_2013 = round((total_2013_injury / total_2013_accidents) * 100, 2)\n",
    "death_percentage_2013 = round((total_2013_death / total_2013_accidents) * 100, 2)\n",
    "injury_percentage_2014 = round((total_2014_injury / total_2014_accidents) * 100, 2)\n",
    "death_percentage_2014 = round((total_2014_death / total_2014_accidents) * 100, 2)\n",
    "injury_percentage_2015 = round((total_2015_injury / total_2015_accidents) * 100, 2)\n",
    "death_percentage_2015 = round((total_2015_death / total_2015_accidents) * 100, 2)\n",
    "injury_percentage_2016 = round((total_2016_injury / total_2016_accidents) * 100, 2)\n",
    "death_percentage_2016 = round((total_2016_death / total_2016_accidents) * 100, 2)\n",
    "injury_percentage_2017 = round((total_2017_injury / total_2017_accidents) * 100, 2)\n",
    "death_percentage_2017 = round((total_2017_death / total_2017_accidents) * 100, 2)\n",
    "injury_percentage_2018 = round((total_2018_injury / total_2018_accidents) * 100, 2)\n",
    "death_percentage_2018 = round((total_2018_death / total_2018_accidents) * 100, 2)\n",
    "\n",
    "# create pandas series and dataframe\n",
    "year = pd.Series([\"2012\", \"2013\", \"2014\", \"2015\", \"2016\", \"2017\", \"2018\"])\n",
    "overall_injury_percentage = pd.Series([injury_percentage_2012, injury_percentage_2013, injury_percentage_2014, injury_percentage_2015,\n",
    "                        injury_percentage_2016, injury_percentage_2017, injury_percentage_2018])\n",
    "overall_death_percentage = pd.Series([death_percentage_2012, death_percentage_2013, death_percentage_2014, death_percentage_2015,\n",
    "                        death_percentage_2016, death_percentage_2017, death_percentage_2018])\n",
    "percentage_dict = {\n",
    "    \"Year\": year,\n",
    "    \"Injury Percentage\": overall_injury_percentage,\n",
    "    \"Fatality Percentage\": overall_death_percentage\n",
    "}\n",
    "annual_percentage = pd.DataFrame(percentage_dict)\n",
    "annual_percentage"
   ]
  },
  {
   "cell_type": "code",
   "execution_count": null,
   "metadata": {},
   "outputs": [],
   "source": [
    "# create a line chart to visualize yearly injury percentage between 2012 and 2018\n",
    "year = annual_percentage[\"Year\"]\n",
    "injury_percentage = annual_percentage[\"Injury Percentage\"]\n",
    "plt.plot(year, injury_percentage, marker ='o', color='blue', label=\"Sine\")\n",
    "ymin = min(injury_percentage)-1\n",
    "ymax = max(injury_percentage)+1\n",
    "\n",
    "# Adding axis labels\n",
    "_=plt.title(\"Annual Injury Percentage Between 2012 & 2018\", bbox={'facecolor':'0.9', 'pad':5}, pad=20)\n",
    "_=plt.xlabel(\"Calendar Year\")\n",
    "_=plt.ylabel(\"Injury (%)\")\n",
    "_=plt.ylim(ymin, ymax)\n",
    "_=plt.savefig(\"Images/injury_percentage_per_year.png\")"
   ]
  },
  {
   "cell_type": "code",
   "execution_count": null,
   "metadata": {},
   "outputs": [],
   "source": [
    "# create a line chart to visualize yearly death percentage between 2012 and 2018\n",
    "year = annual_percentage[\"Year\"]\n",
    "death_percentage = annual_percentage[\"Fatality Percentage\"]\n",
    "plt.plot(year, death_percentage, marker ='o', color='red', label=\"Sine\")\n",
    "ymin = min(death_percentage)-.05\n",
    "ymax = max(death_percentage)+.05\n",
    "\n",
    "# Adding axis labels\n",
    "_=plt.title(\"Annual Fatality Percentage Between 2012 & 2018\", bbox={'facecolor':'0.9', 'pad':5}, pad=20)\n",
    "_=plt.xlabel(\"Calendar Year\")\n",
    "_=plt.ylabel(\"Fatality (%)\")\n",
    "_=plt.ylim(ymin, ymax)\n",
    "_=plt.savefig(\"Images/fatality_percentage_per_year.png\")"
   ]
  },
  {
   "cell_type": "markdown",
   "metadata": {},
   "source": [
    "## 7. Citi Bike launched in NYC in May, 2013. The bike share program has been expanding ever since. The purpose of following visualizations is to observe any impact the bikes have had on NYC accidents."
   ]
  },
  {
   "cell_type": "code",
   "execution_count": null,
   "metadata": {},
   "outputs": [],
   "source": [
    "# Create a dataframe to show bike related accident, injury and death\n",
    "# total number of accidents\n",
    "total_2012_bike_accident = len(dmv_2012_data.loc[(dmv_2012_data['VEHICLE TYPE CODE 1'] == \"BIKE\")])\n",
    "total_2013_bike_accident = len(dmv_2013_data.loc[(dmv_2013_data['VEHICLE TYPE CODE 1'] == \"BIKE\")])\n",
    "total_2014_bike_accident = len(dmv_2014_data.loc[(dmv_2014_data['VEHICLE TYPE CODE 1'] == \"BIKE\")])\n",
    "total_2015_bike_accident = len(dmv_2015_data.loc[(dmv_2015_data['VEHICLE TYPE CODE 1'] == \"BIKE\")])\n",
    "total_2016_bike_accident = len(dmv_2016_data.loc[(dmv_2016_data['VEHICLE TYPE CODE 1'] == \"BIKE\")])\n",
    "total_2017_bike_accident = len(dmv_2017_data.loc[(dmv_2017_data['VEHICLE TYPE CODE 1'] == \"BIKE\")])\n",
    "total_2018_bike_accident = len(dmv_2018_data.loc[(dmv_2018_data['VEHICLE TYPE CODE 1'] == \"BIKE\")])\n",
    "\n",
    "# total number of injuries\n",
    "total_2012_bike_injury = len(dmv_2012_data.loc[(dmv_2012_data['VEHICLE TYPE CODE 1'] == \"BIKE\") & (dmv_2012_data['NUMBER OF PERSONS INJURED'].astype(int) > 0)])\n",
    "total_2013_bike_injury = len(dmv_2013_data.loc[(dmv_2013_data['VEHICLE TYPE CODE 1'] == \"BIKE\") & (dmv_2013_data['NUMBER OF PERSONS INJURED'].astype(int) > 0)])\n",
    "total_2014_bike_injury = len(dmv_2014_data.loc[(dmv_2014_data['VEHICLE TYPE CODE 1'] == \"BIKE\") & (dmv_2014_data['NUMBER OF PERSONS INJURED'].astype(int) > 0)])\n",
    "total_2015_bike_injury = len(dmv_2015_data.loc[(dmv_2015_data['VEHICLE TYPE CODE 1'] == \"BIKE\") & (dmv_2015_data['NUMBER OF PERSONS INJURED'].astype(int) > 0)])\n",
    "total_2016_bike_injury = len(dmv_2016_data.loc[(dmv_2016_data['VEHICLE TYPE CODE 1'] == \"BIKE\") & (dmv_2016_data['NUMBER OF PERSONS INJURED'].astype(int) > 0)])\n",
    "total_2017_bike_injury = len(dmv_2017_data.loc[(dmv_2017_data['VEHICLE TYPE CODE 1'] == \"BIKE\") & (dmv_2017_data['NUMBER OF PERSONS INJURED'].astype(int) > 0)])\n",
    "total_2018_bike_injury = len(dmv_2018_data.loc[(dmv_2018_data['VEHICLE TYPE CODE 1'] == \"BIKE\") & (dmv_2018_data['NUMBER OF PERSONS INJURED'].astype(int) > 0)])\n",
    "\n",
    "# total number of fatality\n",
    "total_2012_bike_death = len(dmv_2012_data.loc[(dmv_2012_data['VEHICLE TYPE CODE 1'] == \"BIKE\") & (dmv_2012_data['NUMBER OF PERSONS KILLED'].astype(int) > 0)])\n",
    "total_2013_bike_death = len(dmv_2013_data.loc[(dmv_2013_data['VEHICLE TYPE CODE 1'] == \"BIKE\") & (dmv_2013_data['NUMBER OF PERSONS KILLED'].astype(int) > 0)])\n",
    "total_2014_bike_death = len(dmv_2014_data.loc[(dmv_2014_data['VEHICLE TYPE CODE 1'] == \"BIKE\") & (dmv_2014_data['NUMBER OF PERSONS KILLED'].astype(int) > 0)])\n",
    "total_2015_bike_death = len(dmv_2015_data.loc[(dmv_2015_data['VEHICLE TYPE CODE 1'] == \"BIKE\") & (dmv_2015_data['NUMBER OF PERSONS KILLED'].astype(int) > 0)])\n",
    "total_2016_bike_death = len(dmv_2016_data.loc[(dmv_2016_data['VEHICLE TYPE CODE 1'] == \"BIKE\") & (dmv_2016_data['NUMBER OF PERSONS KILLED'].astype(int) > 0)])\n",
    "total_2017_bike_death = len(dmv_2017_data.loc[(dmv_2017_data['VEHICLE TYPE CODE 1'] == \"BIKE\") & (dmv_2017_data['NUMBER OF PERSONS KILLED'].astype(int) > 0)])\n",
    "total_2018_bike_death = len(dmv_2018_data.loc[(dmv_2018_data['VEHICLE TYPE CODE 1'] == \"BIKE\") & (dmv_2018_data['NUMBER OF PERSONS KILLED'].astype(int) > 0)])\n",
    "\n",
    "# create pandas series and dataframe\n",
    "year = pd.Series([\"2012\", \"2013\", \"2014\", \"2015\", \"2016\", \"2017\", \"2018\"])\n",
    "bike_accident = pd.Series([total_2012_bike_accident, total_2013_bike_accident, total_2014_bike_accident,\n",
    "                          total_2015_bike_accident, total_2016_bike_accident, total_2017_bike_accident, total_2018_bike_accident])\n",
    "bike_injury = pd.Series([total_2012_bike_injury, total_2013_bike_injury, total_2014_bike_injury,\n",
    "                          total_2015_bike_injury, total_2016_bike_injury, total_2017_bike_injury, total_2018_bike_injury])\n",
    "bike_death = pd.Series([total_2012_bike_death, total_2013_bike_death, total_2014_bike_death,\n",
    "                          total_2015_bike_death, total_2016_bike_death, total_2017_bike_death, total_2018_bike_death])\n",
    "bike_dict = {\n",
    "    \"Year\": year,\n",
    "    \"Total Accident\": bike_accident,\n",
    "    \"Total Injury\": bike_injury,\n",
    "    \"Total Fatality\": bike_death\n",
    "}\n",
    "bike_accident = pd.DataFrame(bike_dict)\n",
    "bike_accident"
   ]
  },
  {
   "cell_type": "markdown",
   "metadata": {},
   "source": [
    "# 8. Uber launched in NYC in May, 2011. Since then there has been a great increase in ride sharing as Lyft, Via and other companies join the marketplace and expand their offerings. All these companies are covered by the same TLC license as Taxicabs. \n",
    "## The purpose of the following visualizations is to observe how the increase in taxis has impacted NYC accidents."
   ]
  },
  {
   "cell_type": "code",
   "execution_count": null,
   "metadata": {},
   "outputs": [],
   "source": [
    "# Create a dataframe to show taxi related accident, injury and death\n",
    "# total number of accidents\n",
    "total_2012_taxi_accident = len(dmv_2012_data.loc[(dmv_2012_data['VEHICLE TYPE CODE 1'] == \"TAXI\")])\n",
    "total_2013_taxi_accident = len(dmv_2013_data.loc[(dmv_2013_data['VEHICLE TYPE CODE 1'] == \"TAXI\")])\n",
    "total_2014_taxi_accident = len(dmv_2014_data.loc[(dmv_2014_data['VEHICLE TYPE CODE 1'] == \"TAXI\")])\n",
    "total_2015_taxi_accident = len(dmv_2015_data.loc[(dmv_2015_data['VEHICLE TYPE CODE 1'] == \"TAXI\")])\n",
    "total_2016_taxi_accident = len(dmv_2016_data.loc[(dmv_2016_data['VEHICLE TYPE CODE 1'] == \"TAXI\")])\n",
    "total_2017_taxi_accident = len(dmv_2017_data.loc[(dmv_2017_data['VEHICLE TYPE CODE 1'] == \"TAXI\")])\n",
    "total_2018_taxi_accident = len(dmv_2018_data.loc[(dmv_2018_data['VEHICLE TYPE CODE 1'] == \"TAXI\")])\n",
    "\n",
    "# total number of injuries\n",
    "total_2012_taxi_injury = len(dmv_2012_data.loc[(dmv_2012_data['VEHICLE TYPE CODE 1'] == \"TAXI\") & (dmv_2012_data['NUMBER OF PERSONS INJURED'].astype(int) > 0)])\n",
    "total_2013_taxi_injury = len(dmv_2013_data.loc[(dmv_2013_data['VEHICLE TYPE CODE 1'] == \"TAXI\") & (dmv_2013_data['NUMBER OF PERSONS INJURED'].astype(int) > 0)])\n",
    "total_2014_taxi_injury = len(dmv_2014_data.loc[(dmv_2014_data['VEHICLE TYPE CODE 1'] == \"TAXI\") & (dmv_2014_data['NUMBER OF PERSONS INJURED'].astype(int) > 0)])\n",
    "total_2015_taxi_injury = len(dmv_2015_data.loc[(dmv_2015_data['VEHICLE TYPE CODE 1'] == \"TAXI\") & (dmv_2015_data['NUMBER OF PERSONS INJURED'].astype(int) > 0)])\n",
    "total_2016_taxi_injury = len(dmv_2016_data.loc[(dmv_2016_data['VEHICLE TYPE CODE 1'] == \"TAXI\") & (dmv_2016_data['NUMBER OF PERSONS INJURED'].astype(int) > 0)])\n",
    "total_2017_taxi_injury = len(dmv_2017_data.loc[(dmv_2017_data['VEHICLE TYPE CODE 1'] == \"BIKE\") & (dmv_2017_data['NUMBER OF PERSONS INJURED'].astype(int) > 0)])\n",
    "total_2018_taxi_injury = len(dmv_2018_data.loc[(dmv_2018_data['VEHICLE TYPE CODE 1'] == \"TAXI\") & (dmv_2018_data['NUMBER OF PERSONS INJURED'].astype(int) > 0)])\n",
    "\n",
    "# total number of fatality\n",
    "total_2012_taxi_death = len(dmv_2012_data.loc[(dmv_2012_data['VEHICLE TYPE CODE 1'] == \"TAXI\") & (dmv_2012_data['NUMBER OF PERSONS KILLED'].astype(int) > 0)])\n",
    "total_2013_taxi_death = len(dmv_2013_data.loc[(dmv_2013_data['VEHICLE TYPE CODE 1'] == \"TAXI\") & (dmv_2013_data['NUMBER OF PERSONS KILLED'].astype(int) > 0)])\n",
    "total_2014_taxi_death = len(dmv_2014_data.loc[(dmv_2014_data['VEHICLE TYPE CODE 1'] == \"TAXI\") & (dmv_2014_data['NUMBER OF PERSONS KILLED'].astype(int) > 0)])\n",
    "total_2015_taxi_death = len(dmv_2015_data.loc[(dmv_2015_data['VEHICLE TYPE CODE 1'] == \"TAXI\") & (dmv_2015_data['NUMBER OF PERSONS KILLED'].astype(int) > 0)])\n",
    "total_2016_taxi_death = len(dmv_2016_data.loc[(dmv_2016_data['VEHICLE TYPE CODE 1'] == \"TAXI\") & (dmv_2016_data['NUMBER OF PERSONS KILLED'].astype(int) > 0)])\n",
    "total_2017_taxi_death = len(dmv_2017_data.loc[(dmv_2017_data['VEHICLE TYPE CODE 1'] == \"TAXI\") & (dmv_2017_data['NUMBER OF PERSONS KILLED'].astype(int) > 0)])\n",
    "total_2018_taxi_death = len(dmv_2018_data.loc[(dmv_2018_data['VEHICLE TYPE CODE 1'] == \"TAXI\") & (dmv_2018_data['NUMBER OF PERSONS KILLED'].astype(int) > 0)])\n",
    "\n",
    "# Percentage of accident caused by Taxi\n",
    "taxi_2012_accidents_percentage = round((total_2012_taxi_accident / total_2012_accidents) * 100, 2)\n",
    "taxi_2013_accidents_percentage = round((total_2013_taxi_accident / total_2013_accidents) * 100, 2)\n",
    "taxi_2014_accidents_percentage = round((total_2014_taxi_accident / total_2014_accidents) * 100, 2)\n",
    "taxi_2015_accidents_percentage = round((total_2015_taxi_accident / total_2015_accidents) * 100, 2)\n",
    "taxi_2016_accidents_percentage = round((total_2016_taxi_accident / total_2016_accidents) * 100, 2)\n",
    "taxi_2017_accidents_percentage = round((total_2017_taxi_accident / total_2017_accidents) * 100, 2)\n",
    "taxi_2018_accidents_percentage = round((total_2018_taxi_accident / total_2018_accidents) * 100, 2)\n",
    "\n",
    "\n",
    "# Percentage of injury caused by Taxi\n",
    "taxi_2012_injury_percentage = round((total_2012_taxi_injury / total_2012_injury) * 100, 2)\n",
    "taxi_2013_injury_percentage = round((total_2013_taxi_injury / total_2013_injury) * 100, 2)\n",
    "taxi_2014_injury_percentage = round((total_2014_taxi_injury / total_2014_injury) * 100, 2)\n",
    "taxi_2015_injury_percentage = round((total_2015_taxi_injury / total_2015_injury) * 100, 2)\n",
    "taxi_2016_injury_percentage = round((total_2016_taxi_injury / total_2016_injury) * 100, 2)\n",
    "taxi_2017_injury_percentage = round((total_2017_taxi_injury / total_2017_injury) * 100, 2)\n",
    "taxi_2018_injury_percentage = round((total_2018_taxi_injury / total_2018_injury) * 100, 2)\n",
    "\n",
    "# create pandas series and dataframe\n",
    "year = pd.Series([\"2012\", \"2013\", \"2014\", \"2015\", \"2016\", \"2017\", \"2018\"])\n",
    "taxi_accident = pd.Series([total_2012_taxi_accident, total_2013_taxi_accident, total_2014_taxi_accident,\n",
    "                          total_2015_taxi_accident, total_2016_taxi_accident, total_2017_taxi_accident, total_2018_taxi_accident])\n",
    "taxi_injury = pd.Series([total_2012_taxi_injury, total_2013_taxi_injury, total_2014_taxi_injury,\n",
    "                          total_2015_taxi_injury, total_2016_taxi_injury, total_2017_taxi_injury, total_2018_taxi_injury])\n",
    "taxi_death = pd.Series([total_2012_taxi_death, total_2013_taxi_death, total_2014_taxi_death,\n",
    "                          total_2015_taxi_death, total_2016_taxi_death, total_2017_taxi_death, total_2018_taxi_death])\n",
    "taxi_accident_percentage = pd.Series([taxi_2012_accidents_percentage, taxi_2013_accidents_percentage, taxi_2014_accidents_percentage,\n",
    "                            taxi_2015_accidents_percentage, taxi_2016_accidents_percentage, taxi_2017_accidents_percentage,\n",
    "                            taxi_2018_accidents_percentage])\n",
    "taxi_injury_percentage = pd.Series([taxi_2012_injury_percentage, taxi_2013_injury_percentage, taxi_2014_injury_percentage,\n",
    "                            taxi_2015_injury_percentage, taxi_2016_injury_percentage, taxi_2017_injury_percentage,\n",
    "                            taxi_2018_injury_percentage])\n",
    "taxi_dict = {\n",
    "    \"Year\": year,\n",
    "    \"Taxi Accident\": taxi_accident,\n",
    "    \"Taxi Injury\": taxi_injury,\n",
    "    \"Taxi Fatality\": taxi_death,\n",
    "    \"% Accident by Taxi\": taxi_accident_percentage,\n",
    "    \"% Injury by Taxi\": taxi_injury_percentage,\n",
    "    \"% Overall Accident Injury\": overall_injury_percentage\n",
    "}\n",
    "taxi_accident = pd.DataFrame(taxi_dict)\n",
    "taxi_accident"
   ]
  },
  {
   "cell_type": "code",
   "execution_count": null,
   "metadata": {},
   "outputs": [],
   "source": [
    "# Create a bar chart to compare injury caused by taxi vs overall collison related injury\n",
    "year = taxi_accident[\"Year\"]\n",
    "accident_by_taxi = taxi_accident[\"% Injury by Taxi\"]\n",
    "all_accident = taxi_accident[\"% Overall Accident Injury\"]\n",
    "p1=plt.bar(year.astype(int)+0.25, all_accident, color='g', width=0.25, align=\"center\")\n",
    "p2=plt.bar(year.astype(int), accident_by_taxi, color='b', width=0.25, align=\"center\")\n",
    "_=plt.title(\"Percentage of Injuries caused by Taxi vs Overall Accidents\", bbox={'facecolor':'0.9', 'pad':5}, pad=20)\n",
    "_=plt.xlabel(\"Year\")\n",
    "_=plt.ylabel(\"% of Injuries\")\n",
    "_=plt.ylim(0, max(all_accident)+5)\n",
    "_=plt.legend((p1[0], p2[0]), ('All', 'Taxi'))\n",
    "taxi_accident\n",
    "plt.savefig(\"Images/Injury_by_taxi_vs_all.png\")"
   ]
  },
  {
   "cell_type": "markdown",
   "metadata": {},
   "source": [
    "# 9. Top 10 zip codes with the highest accident counts in 2018\n",
    "### Creating a heatmap and plotting these zip codes there"
   ]
  },
  {
   "cell_type": "code",
   "execution_count": null,
   "metadata": {},
   "outputs": [],
   "source": [
    "# identify top ten zip codes in NYC in terms of motor vehicle accidents and crash report of 2018\n",
    "groupby_zipcode_data = dmv_2018_data.groupby('ZIP CODE')\n",
    "grouby_dmv_zipcode = groupby_zipcode_data.size()\n",
    "grouby_dmv_lat_lon = groupby_zipcode_data.first()\n",
    "grouby_dmv_sum = groupby_zipcode_data.sum()\n",
    "groupby_dmv_zipcode_df = pd.DataFrame({\n",
    "    \"Total Accident\": grouby_dmv_zipcode,\n",
    "    \"Latitude\": grouby_dmv_lat_lon['LATITUDE'].map(\"{:.2f}\".format),\n",
    "    \"Longitude\": grouby_dmv_lat_lon['LONGITUDE'].map(\"{:.2f}\".format),\n",
    "    \"Num of People Injured\": grouby_dmv_sum['NUMBER OF PERSONS INJURED'].astype(str),\n",
    "    \"Num of People Killed\": grouby_dmv_sum['NUMBER OF PERSONS KILLED'].astype(str),\n",
    "    \"Borough\": grouby_dmv_lat_lon['BOROUGH']\n",
    "})\n",
    "groupby_dmv_zipcode_df[\"Zip Code\"] = grouby_dmv_lat_lon.index\n",
    "groupby_dmv_zipcode_df.sort_values(by=[\"Total Accident\"], ascending=False, inplace=True)\n",
    "top_ten_zipcode = groupby_dmv_zipcode_df.head(10)\n",
    "top_ten_zipcode"
   ]
  },
  {
   "cell_type": "code",
   "execution_count": null,
   "metadata": {},
   "outputs": [],
   "source": [
    "# Configure gmaps with API key\n",
    "gmaps.configure(api_key=g_key)\n",
    "# Store Latitude and Longitude into  locations \n",
    "locations = top_ten_zipcode[['Latitude', 'Longitude']].astype(float)\n",
    "accidents = top_ten_zipcode['Total Accident']\n",
    "\n",
    "# applying the style and plotting the base heatmap\n",
    "figure_layout = {\n",
    "    'width': '100%',\n",
    "    'height': '600px',\n",
    "    'border': '2px solid black',\n",
    "}\n",
    "fig = gmaps.figure(layout=figure_layout, map_type='ROADMAP', center=(40.75,-73.9),zoom_level=11)\n",
    "fig.add_layer(gmaps.heatmap_layer(locations, weights=accidents))\n",
    "fig"
   ]
  },
  {
   "cell_type": "code",
   "execution_count": null,
   "metadata": {},
   "outputs": [],
   "source": [
    "# NOTE: Do not change any of the code in this cell \n",
    "\n",
    "# Using the template add the zipcode marks to the heatmap\n",
    "info_box_template = \"\"\"\n",
    "<dl>\n",
    "<dt>Zip Code</dt><dd>{Zip Code}</dd>\n",
    "<dt>Borough</dt><dd>{Borough}</dd>\n",
    "<dt>Total Accidents</dt><dd>{Total Accident}</dd>\n",
    "<dt>Total Injury</dt><dd>{Num of People Injured}</dd>\n",
    "<dt>Total Fatality</dt><dd>{Num of People Killed}</dd>\n",
    "</dl>\n",
    "\"\"\"\n",
    "# Store the DataFrame Row\n",
    "# NOTE: be sure to update with your DataFrame name\n",
    "zipcode_info = [info_box_template.format(**row) for index, row in top_ten_zipcode.iterrows()]\n",
    "locations = top_ten_zipcode[['Latitude', 'Longitude']].astype(float)\n",
    "\n",
    "# Add marker layer on top of heat map\n",
    "zipcode_layer = gmaps.symbol_layer(\n",
    "        locations, \n",
    "        info_box_content=zipcode_info,\n",
    "        fill_color='red', stroke_color='black')\n",
    "\n",
    "# Display figure\n",
    "fig.add_layer(zipcode_layer)\n",
    "fig"
   ]
  },
  {
   "cell_type": "markdown",
   "metadata": {},
   "source": [
    "# Final Analysis\n",
    "### Contrary to popular belief, driving under the influence of alcohol was not the main cause of Motor Vehicle Collisions & Crashes in NYC from 2012 to 2018. This is likely due to the fact that NYC offers a wide network of public transportation, as well as a large fleet of taxicab and rideshare services (Uber, Lyft, Via, etc.) which make it easier for New Yorkers to avoid driving after a night out.\n",
    "### Reducing the speed limit to 25 mph did not reduce the number of car accidents. However, it did reduce the severity of the accidents in terms of injuries and fatalities.\n",
    "### Increasing the number of taxicabs through Green Cabs and rideshare services did not increase Taxicab related accidents in NYC. In fact, over the past few years there has been a steady decrease in taxicab related accidents. This may be due to the fact that rideshare companies follow a strict vetting process for hiring drivers. Passengers also have the option to rate their drivers and share feedback with the company, causing the drivers to be extra careful on the road and obey traffic laws more diligently."
   ]
  },
  {
   "cell_type": "code",
   "execution_count": null,
   "metadata": {},
   "outputs": [],
   "source": []
  },
  {
   "cell_type": "code",
   "execution_count": null,
   "metadata": {},
   "outputs": [],
   "source": []
  }
 ],
 "metadata": {
  "kernelspec": {
   "display_name": "Python 3",
   "language": "python",
   "name": "python3"
  },
  "language_info": {
   "codemirror_mode": {
    "name": "ipython",
    "version": 3
   },
   "file_extension": ".py",
   "mimetype": "text/x-python",
   "name": "python",
   "nbconvert_exporter": "python",
   "pygments_lexer": "ipython3",
   "version": "3.7.6"
  }
 },
 "nbformat": 4,
 "nbformat_minor": 4
}
